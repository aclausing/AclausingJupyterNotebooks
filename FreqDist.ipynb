{
 "cells": [
  {
   "cell_type": "code",
   "execution_count": null,
   "metadata": {
    "id": "qIeT4x2egwA7"
   },
   "outputs": [],
   "source": [
    "# Alice Clausing   May 2023\n",
    "# Gnu General Public License V3\n",
    "# Magnitudes (Richter scale) of 20 earthquakes near Fiji between 1964 and 1974\n",
    "# Construct frequency diagram and plot\n",
    "\n"
   ]
  },
  {
   "cell_type": "code",
   "execution_count": 1,
   "metadata": {
    "id": "Q6hsWPmGgEPy"
   },
   "outputs": [],
   "source": [
    "import matplotlib.pyplot as plt\n",
    "import numpy as np\n",
    "import pandas as pd"
   ]
  },
  {
   "cell_type": "code",
   "execution_count": 2,
   "metadata": {
    "id": "DaUSc10IgHZl"
   },
   "outputs": [],
   "source": [
    "# Magnitudes (Richter scale) of 20 earthquakes near Fiji between 1964 and 1974\n",
    "values_seq = [4.7, 4.3, 4.5, 4.8, 5.1, 5.5, 4.7, 4.4, 4.7, 4.6, 4.5, 5.7, 4.9, 4.5, 4.3, 4.1, 4.3, 4.6, 5.1, 4.7]\n",
    "\n"
   ]
  },
  {
   "cell_type": "code",
   "execution_count": 3,
   "metadata": {
    "id": "4kXgH0yphZox"
   },
   "outputs": [],
   "source": [
    "# Create dataFrame with these columns:\n",
    "#  - Value (dataFrame index)\n",
    "#  - Frequency\n",
    "#  - Relative frequency\n",
    "#  - Cumulative frequency\n",
    "#  - Cumulative Relative Frequency\n",
    "# Sort by ascending value (not by frequency)\n",
    "COLUMNS = ('Value', 'Frequency', 'RelativeFreq', 'CumFreq', 'CumRelFreq')\n",
    "# df = pd.DataFrame(columns=('Value', 'Frequency', 'RelativeFreq', 'CumFreq', 'CumRelFreq'))\n",
    "df = pd.DataFrame(columns=COLUMNS)\n"
   ]
  },
  {
   "cell_type": "code",
   "execution_count": 4,
   "metadata": {
    "id": "wDh8d1CHO4no"
   },
   "outputs": [],
   "source": [
    "# Fill in the Frequency column\n",
    "for value in values_seq:\n",
    "\ttry:\n",
    "\t\tdf_row = df.loc[value]\n",
    "\texcept KeyError:\n",
    "\t\t# Need to add value to DataFrame\n",
    "\t\t# df_row = pd.Series([value, 1, 0.0, 0, 0.0], index = ['Value', 'Frequency', 'RelativeFreq', 'CumFreq', 'CumRelFreq'])\n",
    "\t\tdf_row = pd.Series([value, 1, 0.0, 0, 0.0], index = COLUMNS)\n",
    "\texcept:\n",
    "\t\tprint(\"Something else went wrong, KeyError occurred\")\n",
    "\telse:\n",
    "\t\t# Value already in DataFrame\n",
    "\t\tdf_row[\"Frequency\"] = df_row[\"Frequency\"] + 1\n",
    "\tfinally:   # Put back into DataFrame\n",
    "\t\tdf.loc[value] = df_row\n",
    "# Sort by Value\n",
    "df.sort_index(axis=\"index\", inplace=True)"
   ]
  },
  {
   "cell_type": "code",
   "execution_count": 5,
   "metadata": {
    "id": "prRyPe3TPA0i"
   },
   "outputs": [],
   "source": [
    "# Fill in Relative Frequency, Cumulative Frequency, Cumulative Relative Frequency columns\n",
    "# https://www.geeksforgeeks.org/different-ways-to-iterate-over-rows-in-pandas-dataframe/#\n",
    "nbr_values = float(len(values_seq))\n",
    "prev_cum_freq = 0\n",
    "prev_cum_relative_freq = 0.0\n",
    "for ind in df.index:\n",
    "\tfreq = df[\"Frequency\"][ind]\n",
    "\tdf[\"CumFreq\"][ind] = prev_cum_freq + freq\n",
    "\trel_freq = float(freq) / nbr_values\n",
    "\tdf[\"RelativeFreq\"][ind] = rel_freq\n",
    "\tdf[\"CumRelFreq\"][ind] = prev_cum_relative_freq + rel_freq\n",
    "\t\n",
    "\tprev_cum_freq = prev_cum_freq + freq\n",
    "\tprev_cum_relative_freq = prev_cum_relative_freq + rel_freq"
   ]
  },
  {
   "cell_type": "code",
   "execution_count": 6,
   "metadata": {
    "colab": {
     "base_uri": "https://localhost:8080/",
     "height": 394
    },
    "id": "BPoUehkURkOY",
    "outputId": "df054eb2-bc3c-4307-c964-1ffa0d222abf"
   },
   "outputs": [
    {
     "data": {
      "text/html": [
       "<div>\n",
       "<style scoped>\n",
       "    .dataframe tbody tr th:only-of-type {\n",
       "        vertical-align: middle;\n",
       "    }\n",
       "\n",
       "    .dataframe tbody tr th {\n",
       "        vertical-align: top;\n",
       "    }\n",
       "\n",
       "    .dataframe thead th {\n",
       "        text-align: right;\n",
       "    }\n",
       "</style>\n",
       "<table border=\"1\" class=\"dataframe\">\n",
       "  <thead>\n",
       "    <tr style=\"text-align: right;\">\n",
       "      <th></th>\n",
       "      <th>Value</th>\n",
       "      <th>Frequency</th>\n",
       "      <th>RelativeFreq</th>\n",
       "      <th>CumFreq</th>\n",
       "      <th>CumRelFreq</th>\n",
       "    </tr>\n",
       "  </thead>\n",
       "  <tbody>\n",
       "    <tr>\n",
       "      <th>4.1</th>\n",
       "      <td>4.1</td>\n",
       "      <td>1</td>\n",
       "      <td>0.05</td>\n",
       "      <td>1</td>\n",
       "      <td>0.05</td>\n",
       "    </tr>\n",
       "    <tr>\n",
       "      <th>4.3</th>\n",
       "      <td>4.3</td>\n",
       "      <td>3</td>\n",
       "      <td>0.15</td>\n",
       "      <td>4</td>\n",
       "      <td>0.20</td>\n",
       "    </tr>\n",
       "    <tr>\n",
       "      <th>4.4</th>\n",
       "      <td>4.4</td>\n",
       "      <td>1</td>\n",
       "      <td>0.05</td>\n",
       "      <td>5</td>\n",
       "      <td>0.25</td>\n",
       "    </tr>\n",
       "    <tr>\n",
       "      <th>4.5</th>\n",
       "      <td>4.5</td>\n",
       "      <td>3</td>\n",
       "      <td>0.15</td>\n",
       "      <td>8</td>\n",
       "      <td>0.40</td>\n",
       "    </tr>\n",
       "    <tr>\n",
       "      <th>4.6</th>\n",
       "      <td>4.6</td>\n",
       "      <td>2</td>\n",
       "      <td>0.10</td>\n",
       "      <td>10</td>\n",
       "      <td>0.50</td>\n",
       "    </tr>\n",
       "    <tr>\n",
       "      <th>4.7</th>\n",
       "      <td>4.7</td>\n",
       "      <td>4</td>\n",
       "      <td>0.20</td>\n",
       "      <td>14</td>\n",
       "      <td>0.70</td>\n",
       "    </tr>\n",
       "    <tr>\n",
       "      <th>4.8</th>\n",
       "      <td>4.8</td>\n",
       "      <td>1</td>\n",
       "      <td>0.05</td>\n",
       "      <td>15</td>\n",
       "      <td>0.75</td>\n",
       "    </tr>\n",
       "    <tr>\n",
       "      <th>4.9</th>\n",
       "      <td>4.9</td>\n",
       "      <td>1</td>\n",
       "      <td>0.05</td>\n",
       "      <td>16</td>\n",
       "      <td>0.80</td>\n",
       "    </tr>\n",
       "    <tr>\n",
       "      <th>5.1</th>\n",
       "      <td>5.1</td>\n",
       "      <td>2</td>\n",
       "      <td>0.10</td>\n",
       "      <td>18</td>\n",
       "      <td>0.90</td>\n",
       "    </tr>\n",
       "    <tr>\n",
       "      <th>5.5</th>\n",
       "      <td>5.5</td>\n",
       "      <td>1</td>\n",
       "      <td>0.05</td>\n",
       "      <td>19</td>\n",
       "      <td>0.95</td>\n",
       "    </tr>\n",
       "    <tr>\n",
       "      <th>5.7</th>\n",
       "      <td>5.7</td>\n",
       "      <td>1</td>\n",
       "      <td>0.05</td>\n",
       "      <td>20</td>\n",
       "      <td>1.00</td>\n",
       "    </tr>\n",
       "  </tbody>\n",
       "</table>\n",
       "</div>"
      ],
      "text/plain": [
       "     Value  Frequency  RelativeFreq  CumFreq  CumRelFreq\n",
       "4.1    4.1          1          0.05        1        0.05\n",
       "4.3    4.3          3          0.15        4        0.20\n",
       "4.4    4.4          1          0.05        5        0.25\n",
       "4.5    4.5          3          0.15        8        0.40\n",
       "4.6    4.6          2          0.10       10        0.50\n",
       "4.7    4.7          4          0.20       14        0.70\n",
       "4.8    4.8          1          0.05       15        0.75\n",
       "4.9    4.9          1          0.05       16        0.80\n",
       "5.1    5.1          2          0.10       18        0.90\n",
       "5.5    5.5          1          0.05       19        0.95\n",
       "5.7    5.7          1          0.05       20        1.00"
      ]
     },
     "execution_count": 6,
     "metadata": {},
     "output_type": "execute_result"
    }
   ],
   "source": [
    "# Frequency and CumFreq columns are integers\n",
    "df = df.astype({'Frequency': 'int64', 'CumFreq': 'int64'})\n",
    "df"
   ]
  },
  {
   "cell_type": "code",
   "execution_count": 7,
   "metadata": {
    "colab": {
     "base_uri": "https://localhost:8080/",
     "height": 457
    },
    "id": "t3vxGbTxZpF4",
    "outputId": "5d6361bb-1ad4-44dc-c085-44eceaf71b83"
   },
   "outputs": [
    {
     "data": {
      "image/png": "[encoded data removed]",
      "text/plain": [
       "<Figure size 640x480 with 1 Axes>"
      ]
     },
     "metadata": {},
     "output_type": "display_data"
    }
   ],
   "source": [
    "# Plot Frequency as bar chart\n",
    "x = df['Value'].to_numpy()\n",
    "y = df['Frequency'].to_numpy()\n",
    "\n",
    "plt.bar(x,y,width = 0.08, label=\"Frequency vs. Magnitude (Richter scale)\")\n",
    "plt.legend(loc='upper center', bbox_to_anchor=(0.5, -0.05), shadow=True, ncol=2)\n",
    "plt.show()"
   ]
  },
  {
   "cell_type": "code",
   "execution_count": 8,
   "metadata": {
    "colab": {
     "base_uri": "https://localhost:8080/",
     "height": 457
    },
    "id": "DtqXTOIBq_d3",
    "outputId": "63793925-3c11-4d97-a07c-8b2e42ec1114"
   },
   "outputs": [
    {
     "data": {
      "image/png": "[encoded data removed]",
      "text/plain": [
       "<Figure size 640x480 with 1 Axes>"
      ]
     },
     "metadata": {},
     "output_type": "display_data"
    }
   ],
   "source": [
    "# Plot Cumulative Frequency (on y-axis) vs. value (on x-axis)\n",
    "x=df['Value'].to_numpy()\n",
    "y=df['CumFreq'].to_numpy()\n",
    "plt.plot(x, y, label=\"Cumulative Frequency vs. Magnitude (Richter scale)\")  \n",
    "plt.legend(loc='upper center', bbox_to_anchor=(0.5, -0.05), shadow=True, ncol=2)\n",
    "plt.show()"
   ]
  },
  {
   "cell_type": "code",
   "execution_count": null,
   "metadata": {},
   "outputs": [],
   "source": []
  }
 ],
 "metadata": {
  "colab": {
   "provenance": []
  },
  "kernelspec": {
   "display_name": "Python 3 (ipykernel)",
   "language": "python",
   "name": "python3"
  },
  "language_info": {
   "codemirror_mode": {
    "name": "ipython",
    "version": 3
   },
   "file_extension": ".py",
   "mimetype": "text/x-python",
   "name": "python",
   "nbconvert_exporter": "python",
   "pygments_lexer": "ipython3",
   "version": "3.10.6"
  }
 },
 "nbformat": 4,
 "nbformat_minor": 1
}
