{
 "cells": [
  {
   "cell_type": "code",
   "execution_count": null,
   "metadata": {
    "id": "L6YoIWt1irUg"
   },
   "outputs": [],
   "source": [
    "# Calculate permutations and combinations"
   ]
  },
  {
   "cell_type": "code",
   "execution_count": 1,
   "metadata": {},
   "outputs": [],
   "source": [
    "from math import factorial"
   ]
  },
  {
   "cell_type": "code",
   "execution_count": 2,
   "metadata": {
    "id": "FHKFoXqei3Gg"
   },
   "outputs": [],
   "source": [
    "def get_combinations(l: list, n: int) -> list:\n",
    "    \"\"\"Calculate all combinations for input list, n items-at-a-time (recursive)\n",
    "    Input arguments:\n",
    "    l: list of (any object)\n",
    "    n: nbr of items-at-a-time\n",
    "    returns list of combinations (list of list of items)\n",
    "    \"\"\"\n",
    "    \n",
    "    assert len(l) > 0,\"get_combinations: list l must not be empty \"\n",
    "    assert isinstance(n,int) and n > 0, \"get_combinations: n must be positive integer\"\n",
    "    if n == len(l):  # return list containing l as the only item        \n",
    "        combination_list = [l]\n",
    "        # print(\"get_combinations: n==1en(l), list=\", l, \" combination_list=\", combination_list)\n",
    "    elif n == 1:\n",
    "        combination_list = []\n",
    "        for item in l:\n",
    "            combination = list(item)\n",
    "            combination_list.append(combination)\n",
    "    else:\n",
    "        combination_list = []\n",
    "        l_idx = 0\n",
    "        for item in range(0, len(l)-1):\n",
    "            # print(\"get_combinations: Calling get_permutations with sublist=\", l[l_idx+1:], \", n=\", n-1)   # debug\n",
    "            combination_sublist = get_combinations(l[l_idx+1:], n-1)\n",
    "            # print(\"get_combinations: get_combinations returned combination_sublist=\", combination_sublist)\n",
    "            for combination in combination_sublist:\n",
    "                combination.insert(0, l[l_idx])\n",
    "                combination_list.append(combination)\n",
    "                # print(\"combination_list=\", combination_list)   debug\n",
    "            l_idx = l_idx + 1\n",
    "    # print(\"get_combinations: returning combination_list=\", combination_list)   # debug\n",
    "    return combination_list\t\n"
   ]
  },
  {
   "cell_type": "code",
   "execution_count": 3,
   "metadata": {},
   "outputs": [],
   "source": [
    "def get_nbr_combinations(l: list, n: int) -> int:\n",
    "    \"\"\"Calculate number of possible combinations for input list, n items-at-a-time\n",
    "    Input arguments:\n",
    "    l: list of (any object)\n",
    "    n: nbr of items-at-a-time\n",
    "    returns number of combinations \n",
    "    \"\"\"\n",
    "    nbr_combinations = factorial(len(l)) / factorial(n) / factorial(len(l) - n)\n",
    "    return nbr_combinations"
   ]
  },
  {
   "cell_type": "code",
   "execution_count": 4,
   "metadata": {},
   "outputs": [
    {
     "name": "stdout",
     "output_type": "stream",
     "text": [
      "Expected number of combinations= 5.0\n",
      "Number of combinations calculated= 5\n",
      "[['a'], ['b'], ['c'], ['d'], ['e']]\n"
     ]
    }
   ],
   "source": [
    "# Combinations of 1 item from list of 5\n",
    "xlist = ['a', 'b', 'c', 'd', 'e']\n",
    "print(\"Expected number of combinations=\", get_nbr_combinations(xlist, 1))\n",
    "combination_list = get_combinations(xlist, 1)\n",
    "print(\"Number of combinations calculated=\", len(combination_list))\n",
    "print(combination_list)"
   ]
  },
  {
   "cell_type": "code",
   "execution_count": 5,
   "metadata": {
    "colab": {
     "base_uri": "https://localhost:8080/"
    },
    "id": "aFFX3kGIjmEL",
    "outputId": "4ced9572-51db-48a7-978c-e6d68ca7ccc5"
   },
   "outputs": [
    {
     "name": "stdout",
     "output_type": "stream",
     "text": [
      "Expected number of combinations= 10.0\n",
      "Number of combinations calculated= 10\n",
      "[['a', 'b'], ['a', 'c'], ['a', 'd'], ['a', 'e'], ['b', 'c'], ['b', 'd'], ['b', 'e'], ['c', 'd'], ['c', 'e'], ['d', 'e']]\n"
     ]
    }
   ],
   "source": [
    "# Combinations of 2 items from list of 5\n",
    "xlist = ['a', 'b', 'c', 'd', 'e']\n",
    "print(\"Expected number of combinations=\", get_nbr_combinations(xlist, 2))\n",
    "combination_list = get_combinations(xlist, 2)\n",
    "print(\"Number of combinations calculated=\", len(combination_list))\n",
    "print(combination_list)"
   ]
  },
  {
   "cell_type": "code",
   "execution_count": 6,
   "metadata": {},
   "outputs": [
    {
     "name": "stdout",
     "output_type": "stream",
     "text": [
      "Expected number of combinations= 10.0\n",
      "Number of combinations calculated= 10\n",
      "[['a', 'b', 'c'], ['a', 'b', 'd'], ['a', 'b', 'e'], ['a', 'c', 'd'], ['a', 'c', 'e'], ['a', 'd', 'e'], ['b', 'c', 'd'], ['b', 'c', 'e'], ['b', 'd', 'e'], ['c', 'd', 'e']]\n"
     ]
    }
   ],
   "source": [
    "# Combinations of 3 items from list of 5\n",
    "xlist = ['a', 'b', 'c', 'd', 'e']\n",
    "print(\"Expected number of combinations=\", get_nbr_combinations(xlist, 3))\n",
    "combination_list = get_combinations(xlist, 3)\n",
    "print(\"Number of combinations calculated=\", len(combination_list))\n",
    "print(combination_list)"
   ]
  },
  {
   "cell_type": "code",
   "execution_count": 7,
   "metadata": {},
   "outputs": [
    {
     "name": "stdout",
     "output_type": "stream",
     "text": [
      "Expected number of combinations= 5.0\n",
      "Number of combinations calculated= 5\n",
      "[['a', 'b', 'c', 'd'], ['a', 'b', 'c', 'e'], ['a', 'b', 'd', 'e'], ['a', 'c', 'd', 'e'], ['b', 'c', 'd', 'e']]\n"
     ]
    }
   ],
   "source": [
    "# Combinations of 4 items from list of 5\n",
    "xlist = ['a', 'b', 'c', 'd', 'e']\n",
    "print(\"Expected number of combinations=\", get_nbr_combinations(xlist, 4))\n",
    "combination_list = get_combinations(xlist, 4)\n",
    "print(\"Number of combinations calculated=\", len(combination_list))\n",
    "print(combination_list)"
   ]
  },
  {
   "cell_type": "code",
   "execution_count": 8,
   "metadata": {},
   "outputs": [
    {
     "name": "stdout",
     "output_type": "stream",
     "text": [
      "Expected number of combinations= 1.0\n",
      "Number of combinations calculated= 1\n",
      "[['a', 'b', 'c', 'd', 'e']]\n"
     ]
    }
   ],
   "source": [
    "# Combinations of 5 items from list of 5\n",
    "xlist = ['a', 'b', 'c', 'd', 'e']\n",
    "print(\"Expected number of combinations=\", get_nbr_combinations(xlist, 5))\n",
    "combination_list = get_combinations(xlist, 5)\n",
    "print(\"Number of combinations calculated=\", len(combination_list))\n",
    "print(combination_list)"
   ]
  },
  {
   "cell_type": "code",
   "execution_count": 9,
   "metadata": {},
   "outputs": [
    {
     "ename": "AssertionError",
     "evalue": "get_combinations: list l must not be empty ",
     "output_type": "error",
     "traceback": [
      "\u001b[0;31m---------------------------------------------------------------------------\u001b[0m",
      "\u001b[0;31mAssertionError\u001b[0m                            Traceback (most recent call last)",
      "Cell \u001b[0;32mIn[9], line 3\u001b[0m\n\u001b[1;32m      1\u001b[0m \u001b[38;5;66;03m# Test error handling\u001b[39;00m\n\u001b[1;32m      2\u001b[0m xlist \u001b[38;5;241m=\u001b[39m []\n\u001b[0;32m----> 3\u001b[0m combination_list \u001b[38;5;241m=\u001b[39m \u001b[43mget_combinations\u001b[49m\u001b[43m(\u001b[49m\u001b[43mxlist\u001b[49m\u001b[43m,\u001b[49m\u001b[43m \u001b[49m\u001b[38;5;241;43m5\u001b[39;49m\u001b[43m)\u001b[49m\n",
      "Cell \u001b[0;32mIn[2], line 9\u001b[0m, in \u001b[0;36mget_combinations\u001b[0;34m(l, n)\u001b[0m\n\u001b[1;32m      1\u001b[0m \u001b[38;5;28;01mdef\u001b[39;00m \u001b[38;5;21mget_combinations\u001b[39m(l: \u001b[38;5;28mlist\u001b[39m, n: \u001b[38;5;28mint\u001b[39m) \u001b[38;5;241m-\u001b[39m\u001b[38;5;241m>\u001b[39m \u001b[38;5;28mlist\u001b[39m:\n\u001b[1;32m      2\u001b[0m \u001b[38;5;250m    \u001b[39m\u001b[38;5;124;03m\"\"\"Calculate all combinations for input list, n items-at-a-time (recursive)\u001b[39;00m\n\u001b[1;32m      3\u001b[0m \u001b[38;5;124;03m    Input arguments:\u001b[39;00m\n\u001b[1;32m      4\u001b[0m \u001b[38;5;124;03m    l: list of (any object)\u001b[39;00m\n\u001b[1;32m      5\u001b[0m \u001b[38;5;124;03m    n: nbr of items-at-a-time\u001b[39;00m\n\u001b[1;32m      6\u001b[0m \u001b[38;5;124;03m    returns list of combinations (list of list of items)\u001b[39;00m\n\u001b[1;32m      7\u001b[0m \u001b[38;5;124;03m    \"\"\"\u001b[39;00m\n\u001b[0;32m----> 9\u001b[0m     \u001b[38;5;28;01massert\u001b[39;00m \u001b[38;5;28mlen\u001b[39m(l) \u001b[38;5;241m>\u001b[39m \u001b[38;5;241m0\u001b[39m,\u001b[38;5;124m\"\u001b[39m\u001b[38;5;124mget_combinations: list l must not be empty \u001b[39m\u001b[38;5;124m\"\u001b[39m\n\u001b[1;32m     10\u001b[0m     \u001b[38;5;28;01massert\u001b[39;00m \u001b[38;5;28misinstance\u001b[39m(n,\u001b[38;5;28mint\u001b[39m) \u001b[38;5;129;01mand\u001b[39;00m n \u001b[38;5;241m>\u001b[39m \u001b[38;5;241m0\u001b[39m, \u001b[38;5;124m\"\u001b[39m\u001b[38;5;124mget_combinations: n must be positive integer\u001b[39m\u001b[38;5;124m\"\u001b[39m\n\u001b[1;32m     11\u001b[0m     \u001b[38;5;28;01mif\u001b[39;00m n \u001b[38;5;241m==\u001b[39m \u001b[38;5;28mlen\u001b[39m(l):  \u001b[38;5;66;03m# return list containing l as the only item        \u001b[39;00m\n",
      "\u001b[0;31mAssertionError\u001b[0m: get_combinations: list l must not be empty "
     ]
    }
   ],
   "source": [
    "# Test error handling\n",
    "xlist = []\n",
    "combination_list = get_combinations(xlist, 5)"
   ]
  },
  {
   "cell_type": "code",
   "execution_count": 10,
   "metadata": {},
   "outputs": [
    {
     "ename": "AssertionError",
     "evalue": "get_combinations: n must be positive integer",
     "output_type": "error",
     "traceback": [
      "\u001b[0;31m---------------------------------------------------------------------------\u001b[0m",
      "\u001b[0;31mAssertionError\u001b[0m                            Traceback (most recent call last)",
      "Cell \u001b[0;32mIn[10], line 3\u001b[0m\n\u001b[1;32m      1\u001b[0m \u001b[38;5;66;03m# Test error handling\u001b[39;00m\n\u001b[1;32m      2\u001b[0m xlist \u001b[38;5;241m=\u001b[39m [\u001b[38;5;124m'\u001b[39m\u001b[38;5;124ma\u001b[39m\u001b[38;5;124m'\u001b[39m, \u001b[38;5;124m'\u001b[39m\u001b[38;5;124mb\u001b[39m\u001b[38;5;124m'\u001b[39m, \u001b[38;5;124m'\u001b[39m\u001b[38;5;124mc\u001b[39m\u001b[38;5;124m'\u001b[39m, \u001b[38;5;124m'\u001b[39m\u001b[38;5;124md\u001b[39m\u001b[38;5;124m'\u001b[39m, \u001b[38;5;124m'\u001b[39m\u001b[38;5;124me\u001b[39m\u001b[38;5;124m'\u001b[39m]\n\u001b[0;32m----> 3\u001b[0m combination_list \u001b[38;5;241m=\u001b[39m \u001b[43mget_combinations\u001b[49m\u001b[43m(\u001b[49m\u001b[43mxlist\u001b[49m\u001b[43m,\u001b[49m\u001b[43m \u001b[49m\u001b[38;5;241;43m0\u001b[39;49m\u001b[43m)\u001b[49m\n",
      "Cell \u001b[0;32mIn[2], line 10\u001b[0m, in \u001b[0;36mget_combinations\u001b[0;34m(l, n)\u001b[0m\n\u001b[1;32m      2\u001b[0m \u001b[38;5;250m\u001b[39m\u001b[38;5;124;03m\"\"\"Calculate all combinations for input list, n items-at-a-time (recursive)\u001b[39;00m\n\u001b[1;32m      3\u001b[0m \u001b[38;5;124;03mInput arguments:\u001b[39;00m\n\u001b[1;32m      4\u001b[0m \u001b[38;5;124;03ml: list of (any object)\u001b[39;00m\n\u001b[1;32m      5\u001b[0m \u001b[38;5;124;03mn: nbr of items-at-a-time\u001b[39;00m\n\u001b[1;32m      6\u001b[0m \u001b[38;5;124;03mreturns list of combinations (list of list of items)\u001b[39;00m\n\u001b[1;32m      7\u001b[0m \u001b[38;5;124;03m\"\"\"\u001b[39;00m\n\u001b[1;32m      9\u001b[0m \u001b[38;5;28;01massert\u001b[39;00m \u001b[38;5;28mlen\u001b[39m(l) \u001b[38;5;241m>\u001b[39m \u001b[38;5;241m0\u001b[39m,\u001b[38;5;124m\"\u001b[39m\u001b[38;5;124mget_combinations: list l must not be empty \u001b[39m\u001b[38;5;124m\"\u001b[39m\n\u001b[0;32m---> 10\u001b[0m \u001b[38;5;28;01massert\u001b[39;00m \u001b[38;5;28misinstance\u001b[39m(n,\u001b[38;5;28mint\u001b[39m) \u001b[38;5;129;01mand\u001b[39;00m n \u001b[38;5;241m>\u001b[39m \u001b[38;5;241m0\u001b[39m, \u001b[38;5;124m\"\u001b[39m\u001b[38;5;124mget_combinations: n must be positive integer\u001b[39m\u001b[38;5;124m\"\u001b[39m\n\u001b[1;32m     11\u001b[0m \u001b[38;5;28;01mif\u001b[39;00m n \u001b[38;5;241m==\u001b[39m \u001b[38;5;28mlen\u001b[39m(l):  \u001b[38;5;66;03m# return list containing l as the only item        \u001b[39;00m\n\u001b[1;32m     12\u001b[0m     combination_list \u001b[38;5;241m=\u001b[39m [l]\n",
      "\u001b[0;31mAssertionError\u001b[0m: get_combinations: n must be positive integer"
     ]
    }
   ],
   "source": [
    "# Test error handling\n",
    "xlist = ['a', 'b', 'c', 'd', 'e']\n",
    "combination_list = get_combinations(xlist, 0)"
   ]
  },
  {
   "cell_type": "code",
   "execution_count": 11,
   "metadata": {},
   "outputs": [
    {
     "ename": "AssertionError",
     "evalue": "get_combinations: n must be positive integer",
     "output_type": "error",
     "traceback": [
      "\u001b[0;31m---------------------------------------------------------------------------\u001b[0m",
      "\u001b[0;31mAssertionError\u001b[0m                            Traceback (most recent call last)",
      "Cell \u001b[0;32mIn[11], line 3\u001b[0m\n\u001b[1;32m      1\u001b[0m \u001b[38;5;66;03m# Test error handling\u001b[39;00m\n\u001b[1;32m      2\u001b[0m xlist \u001b[38;5;241m=\u001b[39m [\u001b[38;5;124m'\u001b[39m\u001b[38;5;124ma\u001b[39m\u001b[38;5;124m'\u001b[39m, \u001b[38;5;124m'\u001b[39m\u001b[38;5;124mb\u001b[39m\u001b[38;5;124m'\u001b[39m, \u001b[38;5;124m'\u001b[39m\u001b[38;5;124mc\u001b[39m\u001b[38;5;124m'\u001b[39m, \u001b[38;5;124m'\u001b[39m\u001b[38;5;124md\u001b[39m\u001b[38;5;124m'\u001b[39m, \u001b[38;5;124m'\u001b[39m\u001b[38;5;124me\u001b[39m\u001b[38;5;124m'\u001b[39m]\n\u001b[0;32m----> 3\u001b[0m combination_list \u001b[38;5;241m=\u001b[39m \u001b[43mget_combinations\u001b[49m\u001b[43m(\u001b[49m\u001b[43mxlist\u001b[49m\u001b[43m,\u001b[49m\u001b[43m \u001b[49m\u001b[38;5;241;43m0.3\u001b[39;49m\u001b[43m)\u001b[49m\n",
      "Cell \u001b[0;32mIn[2], line 10\u001b[0m, in \u001b[0;36mget_combinations\u001b[0;34m(l, n)\u001b[0m\n\u001b[1;32m      2\u001b[0m \u001b[38;5;250m\u001b[39m\u001b[38;5;124;03m\"\"\"Calculate all combinations for input list, n items-at-a-time (recursive)\u001b[39;00m\n\u001b[1;32m      3\u001b[0m \u001b[38;5;124;03mInput arguments:\u001b[39;00m\n\u001b[1;32m      4\u001b[0m \u001b[38;5;124;03ml: list of (any object)\u001b[39;00m\n\u001b[1;32m      5\u001b[0m \u001b[38;5;124;03mn: nbr of items-at-a-time\u001b[39;00m\n\u001b[1;32m      6\u001b[0m \u001b[38;5;124;03mreturns list of combinations (list of list of items)\u001b[39;00m\n\u001b[1;32m      7\u001b[0m \u001b[38;5;124;03m\"\"\"\u001b[39;00m\n\u001b[1;32m      9\u001b[0m \u001b[38;5;28;01massert\u001b[39;00m \u001b[38;5;28mlen\u001b[39m(l) \u001b[38;5;241m>\u001b[39m \u001b[38;5;241m0\u001b[39m,\u001b[38;5;124m\"\u001b[39m\u001b[38;5;124mget_combinations: list l must not be empty \u001b[39m\u001b[38;5;124m\"\u001b[39m\n\u001b[0;32m---> 10\u001b[0m \u001b[38;5;28;01massert\u001b[39;00m \u001b[38;5;28misinstance\u001b[39m(n,\u001b[38;5;28mint\u001b[39m) \u001b[38;5;129;01mand\u001b[39;00m n \u001b[38;5;241m>\u001b[39m \u001b[38;5;241m0\u001b[39m, \u001b[38;5;124m\"\u001b[39m\u001b[38;5;124mget_combinations: n must be positive integer\u001b[39m\u001b[38;5;124m\"\u001b[39m\n\u001b[1;32m     11\u001b[0m \u001b[38;5;28;01mif\u001b[39;00m n \u001b[38;5;241m==\u001b[39m \u001b[38;5;28mlen\u001b[39m(l):  \u001b[38;5;66;03m# return list containing l as the only item        \u001b[39;00m\n\u001b[1;32m     12\u001b[0m     combination_list \u001b[38;5;241m=\u001b[39m [l]\n",
      "\u001b[0;31mAssertionError\u001b[0m: get_combinations: n must be positive integer"
     ]
    }
   ],
   "source": [
    "# Test error handling\n",
    "xlist = ['a', 'b', 'c', 'd', 'e']\n",
    "combination_list = get_combinations(xlist, 0.3)"
   ]
  },
  {
   "cell_type": "code",
   "execution_count": 12,
   "metadata": {},
   "outputs": [],
   "source": [
    "def get_permutations(l: list, n: int) -> list:\n",
    "    \"\"\"Calculate all permutations for input list, n items-at-a-time (recursive)\n",
    "    Input arguments:\n",
    "    l: list of (any object)\n",
    "    n: nbr of items-at-a-time\n",
    "    returns list of permutations (list of list of items)\n",
    "    \"\"\"\n",
    "    \n",
    "    assert len(l) > 0,\"get_permutations: list l must not be empty \"\n",
    "    assert isinstance(n,int) and n > 0, \"get_permutations: n must be positive integer\"\n",
    "    #if n == len(l):  # return list containing l as the only item        \n",
    "    #    permutation_list = [l]\n",
    "    #    # print(\"get_permutations: n==1en(l), list=\", l, \" permutation_list=\", permutation_list)\n",
    "    #elif n == 1:\n",
    "    if n == 1:\n",
    "        permutation_list = []\n",
    "        for item in l:\n",
    "            permutation = list(item)\n",
    "            permutation_list.append(permutation)\n",
    "    else:\n",
    "        permutation_list = []\n",
    "        # l_idx = 0\n",
    "        for item in l:\n",
    "            sublist = list(l)\n",
    "            sublist.remove(item)\n",
    "            # print(\"get_permutations: sublist=\", sublist)\n",
    "            permutation_sublist = get_permutations(sublist, n-1)\n",
    "            # print(\"get_permutations: get_permutations returned permutation_sublist=\", permutation_sublist)\n",
    "            for permutation in permutation_sublist:\n",
    "                permutation.insert(0, item)\n",
    "                permutation_list.append(permutation)\n",
    "                # print(\"permutation_list=\", permutation_list)   # debug\n",
    "            # l_idx = l_idx + 1\n",
    "    # print(\"get_permutations: returning permutation_list=\", permutation_list)   # debug\n",
    "    return permutation_list\t"
   ]
  },
  {
   "cell_type": "code",
   "execution_count": 13,
   "metadata": {},
   "outputs": [],
   "source": [
    "def get_nbr_permutations(l: list, n: int) -> int:\n",
    "    \"\"\"Calculate number of possible permutations for input list, n items-at-a-time\n",
    "    which is (len(l))! / (len(l) - n)!\n",
    "    Input arguments:\n",
    "    l: list of (any object)\n",
    "    n: nbr of items-at-a-time\n",
    "    returns number of permutations \n",
    "    \"\"\"\n",
    "    # print(\"l=\", l, \"   n=\", n)   # debug\n",
    "    nbr_permutations = factorial(len(l)) / factorial(len(l) - n)\n",
    "    return nbr_permutations"
   ]
  },
  {
   "cell_type": "code",
   "execution_count": 14,
   "metadata": {},
   "outputs": [
    {
     "name": "stdout",
     "output_type": "stream",
     "text": [
      "Expected number of permutations= 5.0\n",
      "Number of permutations calculated= 5\n",
      "[['a'], ['b'], ['c'], ['d'], ['e']]\n"
     ]
    }
   ],
   "source": [
    "# Permutations of 1 item from list of 5\n",
    "xlist = ['a', 'b', 'c', 'd', 'e']\n",
    "print(\"Expected number of permutations=\", get_nbr_permutations(xlist, 1))\n",
    "permutation_list = get_permutations(xlist, 1)\n",
    "print(\"Number of permutations calculated=\", len(permutation_list))\n",
    "print(permutation_list)"
   ]
  },
  {
   "cell_type": "code",
   "execution_count": 15,
   "metadata": {},
   "outputs": [
    {
     "name": "stdout",
     "output_type": "stream",
     "text": [
      "Expected number of permutations= 20.0\n",
      "Number of permutations calculated= 20\n",
      "[['a', 'b'], ['a', 'c'], ['a', 'd'], ['a', 'e'], ['b', 'a'], ['b', 'c'], ['b', 'd'], ['b', 'e'], ['c', 'a'], ['c', 'b'], ['c', 'd'], ['c', 'e'], ['d', 'a'], ['d', 'b'], ['d', 'c'], ['d', 'e'], ['e', 'a'], ['e', 'b'], ['e', 'c'], ['e', 'd']]\n"
     ]
    }
   ],
   "source": [
    "# Permutations of 2 items from list of 5\n",
    "xlist = ['a', 'b', 'c', 'd', 'e']\n",
    "print(\"Expected number of permutations=\", get_nbr_permutations(xlist, 2))\n",
    "permutation_list = get_permutations(xlist, 2)\n",
    "print(\"Number of permutations calculated=\", len(permutation_list))\n",
    "print(permutation_list)"
   ]
  },
  {
   "cell_type": "code",
   "execution_count": 16,
   "metadata": {},
   "outputs": [
    {
     "name": "stdout",
     "output_type": "stream",
     "text": [
      "Expected number of permutations= 60.0\n",
      "Number of permutations calculated= 60\n",
      "[['a', 'b', 'c'], ['a', 'b', 'd'], ['a', 'b', 'e'], ['a', 'c', 'b'], ['a', 'c', 'd'], ['a', 'c', 'e'], ['a', 'd', 'b'], ['a', 'd', 'c'], ['a', 'd', 'e'], ['a', 'e', 'b'], ['a', 'e', 'c'], ['a', 'e', 'd'], ['b', 'a', 'c'], ['b', 'a', 'd'], ['b', 'a', 'e'], ['b', 'c', 'a'], ['b', 'c', 'd'], ['b', 'c', 'e'], ['b', 'd', 'a'], ['b', 'd', 'c'], ['b', 'd', 'e'], ['b', 'e', 'a'], ['b', 'e', 'c'], ['b', 'e', 'd'], ['c', 'a', 'b'], ['c', 'a', 'd'], ['c', 'a', 'e'], ['c', 'b', 'a'], ['c', 'b', 'd'], ['c', 'b', 'e'], ['c', 'd', 'a'], ['c', 'd', 'b'], ['c', 'd', 'e'], ['c', 'e', 'a'], ['c', 'e', 'b'], ['c', 'e', 'd'], ['d', 'a', 'b'], ['d', 'a', 'c'], ['d', 'a', 'e'], ['d', 'b', 'a'], ['d', 'b', 'c'], ['d', 'b', 'e'], ['d', 'c', 'a'], ['d', 'c', 'b'], ['d', 'c', 'e'], ['d', 'e', 'a'], ['d', 'e', 'b'], ['d', 'e', 'c'], ['e', 'a', 'b'], ['e', 'a', 'c'], ['e', 'a', 'd'], ['e', 'b', 'a'], ['e', 'b', 'c'], ['e', 'b', 'd'], ['e', 'c', 'a'], ['e', 'c', 'b'], ['e', 'c', 'd'], ['e', 'd', 'a'], ['e', 'd', 'b'], ['e', 'd', 'c']]\n"
     ]
    }
   ],
   "source": [
    "# Permutations of 3 items from list of 5\n",
    "xlist = ['a', 'b', 'c', 'd', 'e']\n",
    "print(\"Expected number of permutations=\", get_nbr_permutations(xlist, 3))\n",
    "permutation_list = get_permutations(xlist, 3)\n",
    "print(\"Number of permutations calculated=\", len(permutation_list))\n",
    "print(permutation_list)"
   ]
  },
  {
   "cell_type": "code",
   "execution_count": 17,
   "metadata": {},
   "outputs": [
    {
     "name": "stdout",
     "output_type": "stream",
     "text": [
      "Expected number of permutations= 120.0\n",
      "Number of permutations calculated= 120\n",
      "[['a', 'b', 'c', 'd'], ['a', 'b', 'c', 'e'], ['a', 'b', 'd', 'c'], ['a', 'b', 'd', 'e'], ['a', 'b', 'e', 'c'], ['a', 'b', 'e', 'd'], ['a', 'c', 'b', 'd'], ['a', 'c', 'b', 'e'], ['a', 'c', 'd', 'b'], ['a', 'c', 'd', 'e'], ['a', 'c', 'e', 'b'], ['a', 'c', 'e', 'd'], ['a', 'd', 'b', 'c'], ['a', 'd', 'b', 'e'], ['a', 'd', 'c', 'b'], ['a', 'd', 'c', 'e'], ['a', 'd', 'e', 'b'], ['a', 'd', 'e', 'c'], ['a', 'e', 'b', 'c'], ['a', 'e', 'b', 'd'], ['a', 'e', 'c', 'b'], ['a', 'e', 'c', 'd'], ['a', 'e', 'd', 'b'], ['a', 'e', 'd', 'c'], ['b', 'a', 'c', 'd'], ['b', 'a', 'c', 'e'], ['b', 'a', 'd', 'c'], ['b', 'a', 'd', 'e'], ['b', 'a', 'e', 'c'], ['b', 'a', 'e', 'd'], ['b', 'c', 'a', 'd'], ['b', 'c', 'a', 'e'], ['b', 'c', 'd', 'a'], ['b', 'c', 'd', 'e'], ['b', 'c', 'e', 'a'], ['b', 'c', 'e', 'd'], ['b', 'd', 'a', 'c'], ['b', 'd', 'a', 'e'], ['b', 'd', 'c', 'a'], ['b', 'd', 'c', 'e'], ['b', 'd', 'e', 'a'], ['b', 'd', 'e', 'c'], ['b', 'e', 'a', 'c'], ['b', 'e', 'a', 'd'], ['b', 'e', 'c', 'a'], ['b', 'e', 'c', 'd'], ['b', 'e', 'd', 'a'], ['b', 'e', 'd', 'c'], ['c', 'a', 'b', 'd'], ['c', 'a', 'b', 'e'], ['c', 'a', 'd', 'b'], ['c', 'a', 'd', 'e'], ['c', 'a', 'e', 'b'], ['c', 'a', 'e', 'd'], ['c', 'b', 'a', 'd'], ['c', 'b', 'a', 'e'], ['c', 'b', 'd', 'a'], ['c', 'b', 'd', 'e'], ['c', 'b', 'e', 'a'], ['c', 'b', 'e', 'd'], ['c', 'd', 'a', 'b'], ['c', 'd', 'a', 'e'], ['c', 'd', 'b', 'a'], ['c', 'd', 'b', 'e'], ['c', 'd', 'e', 'a'], ['c', 'd', 'e', 'b'], ['c', 'e', 'a', 'b'], ['c', 'e', 'a', 'd'], ['c', 'e', 'b', 'a'], ['c', 'e', 'b', 'd'], ['c', 'e', 'd', 'a'], ['c', 'e', 'd', 'b'], ['d', 'a', 'b', 'c'], ['d', 'a', 'b', 'e'], ['d', 'a', 'c', 'b'], ['d', 'a', 'c', 'e'], ['d', 'a', 'e', 'b'], ['d', 'a', 'e', 'c'], ['d', 'b', 'a', 'c'], ['d', 'b', 'a', 'e'], ['d', 'b', 'c', 'a'], ['d', 'b', 'c', 'e'], ['d', 'b', 'e', 'a'], ['d', 'b', 'e', 'c'], ['d', 'c', 'a', 'b'], ['d', 'c', 'a', 'e'], ['d', 'c', 'b', 'a'], ['d', 'c', 'b', 'e'], ['d', 'c', 'e', 'a'], ['d', 'c', 'e', 'b'], ['d', 'e', 'a', 'b'], ['d', 'e', 'a', 'c'], ['d', 'e', 'b', 'a'], ['d', 'e', 'b', 'c'], ['d', 'e', 'c', 'a'], ['d', 'e', 'c', 'b'], ['e', 'a', 'b', 'c'], ['e', 'a', 'b', 'd'], ['e', 'a', 'c', 'b'], ['e', 'a', 'c', 'd'], ['e', 'a', 'd', 'b'], ['e', 'a', 'd', 'c'], ['e', 'b', 'a', 'c'], ['e', 'b', 'a', 'd'], ['e', 'b', 'c', 'a'], ['e', 'b', 'c', 'd'], ['e', 'b', 'd', 'a'], ['e', 'b', 'd', 'c'], ['e', 'c', 'a', 'b'], ['e', 'c', 'a', 'd'], ['e', 'c', 'b', 'a'], ['e', 'c', 'b', 'd'], ['e', 'c', 'd', 'a'], ['e', 'c', 'd', 'b'], ['e', 'd', 'a', 'b'], ['e', 'd', 'a', 'c'], ['e', 'd', 'b', 'a'], ['e', 'd', 'b', 'c'], ['e', 'd', 'c', 'a'], ['e', 'd', 'c', 'b']]\n"
     ]
    }
   ],
   "source": [
    "# Permutations of 4 items from list of 5\n",
    "xlist = ['a', 'b', 'c', 'd', 'e']\n",
    "print(\"Expected number of permutations=\", get_nbr_permutations(xlist, 4))\n",
    "permutation_list = get_permutations(xlist, 4)\n",
    "print(\"Number of permutations calculated=\", len(permutation_list))\n",
    "print(permutation_list)"
   ]
  },
  {
   "cell_type": "code",
   "execution_count": 18,
   "metadata": {},
   "outputs": [
    {
     "name": "stdout",
     "output_type": "stream",
     "text": [
      "Expected number of permutations= 120.0\n",
      "Number of permutations calculated= 120\n",
      "[['a', 'b', 'c', 'd', 'e'], ['a', 'b', 'c', 'e', 'd'], ['a', 'b', 'd', 'c', 'e'], ['a', 'b', 'd', 'e', 'c'], ['a', 'b', 'e', 'c', 'd'], ['a', 'b', 'e', 'd', 'c'], ['a', 'c', 'b', 'd', 'e'], ['a', 'c', 'b', 'e', 'd'], ['a', 'c', 'd', 'b', 'e'], ['a', 'c', 'd', 'e', 'b'], ['a', 'c', 'e', 'b', 'd'], ['a', 'c', 'e', 'd', 'b'], ['a', 'd', 'b', 'c', 'e'], ['a', 'd', 'b', 'e', 'c'], ['a', 'd', 'c', 'b', 'e'], ['a', 'd', 'c', 'e', 'b'], ['a', 'd', 'e', 'b', 'c'], ['a', 'd', 'e', 'c', 'b'], ['a', 'e', 'b', 'c', 'd'], ['a', 'e', 'b', 'd', 'c'], ['a', 'e', 'c', 'b', 'd'], ['a', 'e', 'c', 'd', 'b'], ['a', 'e', 'd', 'b', 'c'], ['a', 'e', 'd', 'c', 'b'], ['b', 'a', 'c', 'd', 'e'], ['b', 'a', 'c', 'e', 'd'], ['b', 'a', 'd', 'c', 'e'], ['b', 'a', 'd', 'e', 'c'], ['b', 'a', 'e', 'c', 'd'], ['b', 'a', 'e', 'd', 'c'], ['b', 'c', 'a', 'd', 'e'], ['b', 'c', 'a', 'e', 'd'], ['b', 'c', 'd', 'a', 'e'], ['b', 'c', 'd', 'e', 'a'], ['b', 'c', 'e', 'a', 'd'], ['b', 'c', 'e', 'd', 'a'], ['b', 'd', 'a', 'c', 'e'], ['b', 'd', 'a', 'e', 'c'], ['b', 'd', 'c', 'a', 'e'], ['b', 'd', 'c', 'e', 'a'], ['b', 'd', 'e', 'a', 'c'], ['b', 'd', 'e', 'c', 'a'], ['b', 'e', 'a', 'c', 'd'], ['b', 'e', 'a', 'd', 'c'], ['b', 'e', 'c', 'a', 'd'], ['b', 'e', 'c', 'd', 'a'], ['b', 'e', 'd', 'a', 'c'], ['b', 'e', 'd', 'c', 'a'], ['c', 'a', 'b', 'd', 'e'], ['c', 'a', 'b', 'e', 'd'], ['c', 'a', 'd', 'b', 'e'], ['c', 'a', 'd', 'e', 'b'], ['c', 'a', 'e', 'b', 'd'], ['c', 'a', 'e', 'd', 'b'], ['c', 'b', 'a', 'd', 'e'], ['c', 'b', 'a', 'e', 'd'], ['c', 'b', 'd', 'a', 'e'], ['c', 'b', 'd', 'e', 'a'], ['c', 'b', 'e', 'a', 'd'], ['c', 'b', 'e', 'd', 'a'], ['c', 'd', 'a', 'b', 'e'], ['c', 'd', 'a', 'e', 'b'], ['c', 'd', 'b', 'a', 'e'], ['c', 'd', 'b', 'e', 'a'], ['c', 'd', 'e', 'a', 'b'], ['c', 'd', 'e', 'b', 'a'], ['c', 'e', 'a', 'b', 'd'], ['c', 'e', 'a', 'd', 'b'], ['c', 'e', 'b', 'a', 'd'], ['c', 'e', 'b', 'd', 'a'], ['c', 'e', 'd', 'a', 'b'], ['c', 'e', 'd', 'b', 'a'], ['d', 'a', 'b', 'c', 'e'], ['d', 'a', 'b', 'e', 'c'], ['d', 'a', 'c', 'b', 'e'], ['d', 'a', 'c', 'e', 'b'], ['d', 'a', 'e', 'b', 'c'], ['d', 'a', 'e', 'c', 'b'], ['d', 'b', 'a', 'c', 'e'], ['d', 'b', 'a', 'e', 'c'], ['d', 'b', 'c', 'a', 'e'], ['d', 'b', 'c', 'e', 'a'], ['d', 'b', 'e', 'a', 'c'], ['d', 'b', 'e', 'c', 'a'], ['d', 'c', 'a', 'b', 'e'], ['d', 'c', 'a', 'e', 'b'], ['d', 'c', 'b', 'a', 'e'], ['d', 'c', 'b', 'e', 'a'], ['d', 'c', 'e', 'a', 'b'], ['d', 'c', 'e', 'b', 'a'], ['d', 'e', 'a', 'b', 'c'], ['d', 'e', 'a', 'c', 'b'], ['d', 'e', 'b', 'a', 'c'], ['d', 'e', 'b', 'c', 'a'], ['d', 'e', 'c', 'a', 'b'], ['d', 'e', 'c', 'b', 'a'], ['e', 'a', 'b', 'c', 'd'], ['e', 'a', 'b', 'd', 'c'], ['e', 'a', 'c', 'b', 'd'], ['e', 'a', 'c', 'd', 'b'], ['e', 'a', 'd', 'b', 'c'], ['e', 'a', 'd', 'c', 'b'], ['e', 'b', 'a', 'c', 'd'], ['e', 'b', 'a', 'd', 'c'], ['e', 'b', 'c', 'a', 'd'], ['e', 'b', 'c', 'd', 'a'], ['e', 'b', 'd', 'a', 'c'], ['e', 'b', 'd', 'c', 'a'], ['e', 'c', 'a', 'b', 'd'], ['e', 'c', 'a', 'd', 'b'], ['e', 'c', 'b', 'a', 'd'], ['e', 'c', 'b', 'd', 'a'], ['e', 'c', 'd', 'a', 'b'], ['e', 'c', 'd', 'b', 'a'], ['e', 'd', 'a', 'b', 'c'], ['e', 'd', 'a', 'c', 'b'], ['e', 'd', 'b', 'a', 'c'], ['e', 'd', 'b', 'c', 'a'], ['e', 'd', 'c', 'a', 'b'], ['e', 'd', 'c', 'b', 'a']]\n"
     ]
    }
   ],
   "source": [
    "# Permutations of 5 items from list of 5\n",
    "xlist = ['a', 'b', 'c', 'd', 'e']\n",
    "print(\"Expected number of permutations=\", get_nbr_permutations(xlist, 5))\n",
    "permutation_list = get_permutations(xlist, 5)\n",
    "print(\"Number of permutations calculated=\", len(permutation_list))\n",
    "\n",
    "print(permutation_list)"
   ]
  },
  {
   "cell_type": "code",
   "execution_count": 19,
   "metadata": {},
   "outputs": [
    {
     "ename": "AssertionError",
     "evalue": "get_permutations: list l must not be empty ",
     "output_type": "error",
     "traceback": [
      "\u001b[0;31m---------------------------------------------------------------------------\u001b[0m",
      "\u001b[0;31mAssertionError\u001b[0m                            Traceback (most recent call last)",
      "Cell \u001b[0;32mIn[19], line 3\u001b[0m\n\u001b[1;32m      1\u001b[0m \u001b[38;5;66;03m# Test error handling\u001b[39;00m\n\u001b[1;32m      2\u001b[0m xlist \u001b[38;5;241m=\u001b[39m []\n\u001b[0;32m----> 3\u001b[0m permutation_list \u001b[38;5;241m=\u001b[39m \u001b[43mget_permutations\u001b[49m\u001b[43m(\u001b[49m\u001b[43mxlist\u001b[49m\u001b[43m,\u001b[49m\u001b[43m \u001b[49m\u001b[38;5;241;43m5\u001b[39;49m\u001b[43m)\u001b[49m\n",
      "Cell \u001b[0;32mIn[12], line 9\u001b[0m, in \u001b[0;36mget_permutations\u001b[0;34m(l, n)\u001b[0m\n\u001b[1;32m      1\u001b[0m \u001b[38;5;28;01mdef\u001b[39;00m \u001b[38;5;21mget_permutations\u001b[39m(l: \u001b[38;5;28mlist\u001b[39m, n: \u001b[38;5;28mint\u001b[39m) \u001b[38;5;241m-\u001b[39m\u001b[38;5;241m>\u001b[39m \u001b[38;5;28mlist\u001b[39m:\n\u001b[1;32m      2\u001b[0m \u001b[38;5;250m    \u001b[39m\u001b[38;5;124;03m\"\"\"Calculate all permutations for input list, n items-at-a-time (recursive)\u001b[39;00m\n\u001b[1;32m      3\u001b[0m \u001b[38;5;124;03m    Input arguments:\u001b[39;00m\n\u001b[1;32m      4\u001b[0m \u001b[38;5;124;03m    l: list of (any object)\u001b[39;00m\n\u001b[1;32m      5\u001b[0m \u001b[38;5;124;03m    n: nbr of items-at-a-time\u001b[39;00m\n\u001b[1;32m      6\u001b[0m \u001b[38;5;124;03m    returns list of permutations (list of list of items)\u001b[39;00m\n\u001b[1;32m      7\u001b[0m \u001b[38;5;124;03m    \"\"\"\u001b[39;00m\n\u001b[0;32m----> 9\u001b[0m     \u001b[38;5;28;01massert\u001b[39;00m \u001b[38;5;28mlen\u001b[39m(l) \u001b[38;5;241m>\u001b[39m \u001b[38;5;241m0\u001b[39m,\u001b[38;5;124m\"\u001b[39m\u001b[38;5;124mget_permutations: list l must not be empty \u001b[39m\u001b[38;5;124m\"\u001b[39m\n\u001b[1;32m     10\u001b[0m     \u001b[38;5;28;01massert\u001b[39;00m \u001b[38;5;28misinstance\u001b[39m(n,\u001b[38;5;28mint\u001b[39m) \u001b[38;5;129;01mand\u001b[39;00m n \u001b[38;5;241m>\u001b[39m \u001b[38;5;241m0\u001b[39m, \u001b[38;5;124m\"\u001b[39m\u001b[38;5;124mget_permutations: n must be positive integer\u001b[39m\u001b[38;5;124m\"\u001b[39m\n\u001b[1;32m     11\u001b[0m     \u001b[38;5;66;03m#if n == len(l):  # return list containing l as the only item        \u001b[39;00m\n\u001b[1;32m     12\u001b[0m     \u001b[38;5;66;03m#    permutation_list = [l]\u001b[39;00m\n\u001b[1;32m     13\u001b[0m     \u001b[38;5;66;03m#    # print(\"get_permutations: n==1en(l), list=\", l, \" permutation_list=\", permutation_list)\u001b[39;00m\n\u001b[1;32m     14\u001b[0m     \u001b[38;5;66;03m#elif n == 1:\u001b[39;00m\n",
      "\u001b[0;31mAssertionError\u001b[0m: get_permutations: list l must not be empty "
     ]
    }
   ],
   "source": [
    "# Test error handling\n",
    "xlist = []\n",
    "permutation_list = get_permutations(xlist, 5)"
   ]
  },
  {
   "cell_type": "code",
   "execution_count": 20,
   "metadata": {},
   "outputs": [
    {
     "ename": "AssertionError",
     "evalue": "get_permutations: n must be positive integer",
     "output_type": "error",
     "traceback": [
      "\u001b[0;31m---------------------------------------------------------------------------\u001b[0m",
      "\u001b[0;31mAssertionError\u001b[0m                            Traceback (most recent call last)",
      "Cell \u001b[0;32mIn[20], line 3\u001b[0m\n\u001b[1;32m      1\u001b[0m \u001b[38;5;66;03m# Test error handling\u001b[39;00m\n\u001b[1;32m      2\u001b[0m xlist \u001b[38;5;241m=\u001b[39m [\u001b[38;5;124m'\u001b[39m\u001b[38;5;124ma\u001b[39m\u001b[38;5;124m'\u001b[39m, \u001b[38;5;124m'\u001b[39m\u001b[38;5;124mb\u001b[39m\u001b[38;5;124m'\u001b[39m, \u001b[38;5;124m'\u001b[39m\u001b[38;5;124mc\u001b[39m\u001b[38;5;124m'\u001b[39m, \u001b[38;5;124m'\u001b[39m\u001b[38;5;124md\u001b[39m\u001b[38;5;124m'\u001b[39m, \u001b[38;5;124m'\u001b[39m\u001b[38;5;124me\u001b[39m\u001b[38;5;124m'\u001b[39m]\n\u001b[0;32m----> 3\u001b[0m permutation_list \u001b[38;5;241m=\u001b[39m \u001b[43mget_permutations\u001b[49m\u001b[43m(\u001b[49m\u001b[43mxlist\u001b[49m\u001b[43m,\u001b[49m\u001b[43m \u001b[49m\u001b[38;5;241;43m0\u001b[39;49m\u001b[43m)\u001b[49m\n",
      "Cell \u001b[0;32mIn[12], line 10\u001b[0m, in \u001b[0;36mget_permutations\u001b[0;34m(l, n)\u001b[0m\n\u001b[1;32m      2\u001b[0m \u001b[38;5;250m\u001b[39m\u001b[38;5;124;03m\"\"\"Calculate all permutations for input list, n items-at-a-time (recursive)\u001b[39;00m\n\u001b[1;32m      3\u001b[0m \u001b[38;5;124;03mInput arguments:\u001b[39;00m\n\u001b[1;32m      4\u001b[0m \u001b[38;5;124;03ml: list of (any object)\u001b[39;00m\n\u001b[1;32m      5\u001b[0m \u001b[38;5;124;03mn: nbr of items-at-a-time\u001b[39;00m\n\u001b[1;32m      6\u001b[0m \u001b[38;5;124;03mreturns list of permutations (list of list of items)\u001b[39;00m\n\u001b[1;32m      7\u001b[0m \u001b[38;5;124;03m\"\"\"\u001b[39;00m\n\u001b[1;32m      9\u001b[0m \u001b[38;5;28;01massert\u001b[39;00m \u001b[38;5;28mlen\u001b[39m(l) \u001b[38;5;241m>\u001b[39m \u001b[38;5;241m0\u001b[39m,\u001b[38;5;124m\"\u001b[39m\u001b[38;5;124mget_permutations: list l must not be empty \u001b[39m\u001b[38;5;124m\"\u001b[39m\n\u001b[0;32m---> 10\u001b[0m \u001b[38;5;28;01massert\u001b[39;00m \u001b[38;5;28misinstance\u001b[39m(n,\u001b[38;5;28mint\u001b[39m) \u001b[38;5;129;01mand\u001b[39;00m n \u001b[38;5;241m>\u001b[39m \u001b[38;5;241m0\u001b[39m, \u001b[38;5;124m\"\u001b[39m\u001b[38;5;124mget_permutations: n must be positive integer\u001b[39m\u001b[38;5;124m\"\u001b[39m\n\u001b[1;32m     11\u001b[0m \u001b[38;5;66;03m#if n == len(l):  # return list containing l as the only item        \u001b[39;00m\n\u001b[1;32m     12\u001b[0m \u001b[38;5;66;03m#    permutation_list = [l]\u001b[39;00m\n\u001b[1;32m     13\u001b[0m \u001b[38;5;66;03m#    # print(\"get_permutations: n==1en(l), list=\", l, \" permutation_list=\", permutation_list)\u001b[39;00m\n\u001b[1;32m     14\u001b[0m \u001b[38;5;66;03m#elif n == 1:\u001b[39;00m\n\u001b[1;32m     15\u001b[0m \u001b[38;5;28;01mif\u001b[39;00m n \u001b[38;5;241m==\u001b[39m \u001b[38;5;241m1\u001b[39m:\n",
      "\u001b[0;31mAssertionError\u001b[0m: get_permutations: n must be positive integer"
     ]
    }
   ],
   "source": [
    "# Test error handling\n",
    "xlist = ['a', 'b', 'c', 'd', 'e']\n",
    "permutation_list = get_permutations(xlist, 0)"
   ]
  },
  {
   "cell_type": "code",
   "execution_count": 21,
   "metadata": {},
   "outputs": [
    {
     "ename": "AssertionError",
     "evalue": "get_permutations: n must be positive integer",
     "output_type": "error",
     "traceback": [
      "\u001b[0;31m---------------------------------------------------------------------------\u001b[0m",
      "\u001b[0;31mAssertionError\u001b[0m                            Traceback (most recent call last)",
      "Cell \u001b[0;32mIn[21], line 3\u001b[0m\n\u001b[1;32m      1\u001b[0m \u001b[38;5;66;03m# Test error handling\u001b[39;00m\n\u001b[1;32m      2\u001b[0m xlist \u001b[38;5;241m=\u001b[39m [\u001b[38;5;124m'\u001b[39m\u001b[38;5;124ma\u001b[39m\u001b[38;5;124m'\u001b[39m, \u001b[38;5;124m'\u001b[39m\u001b[38;5;124mb\u001b[39m\u001b[38;5;124m'\u001b[39m, \u001b[38;5;124m'\u001b[39m\u001b[38;5;124mc\u001b[39m\u001b[38;5;124m'\u001b[39m, \u001b[38;5;124m'\u001b[39m\u001b[38;5;124md\u001b[39m\u001b[38;5;124m'\u001b[39m, \u001b[38;5;124m'\u001b[39m\u001b[38;5;124me\u001b[39m\u001b[38;5;124m'\u001b[39m]\n\u001b[0;32m----> 3\u001b[0m permutation_list \u001b[38;5;241m=\u001b[39m \u001b[43mget_permutations\u001b[49m\u001b[43m(\u001b[49m\u001b[43mxlist\u001b[49m\u001b[43m,\u001b[49m\u001b[43m \u001b[49m\u001b[38;5;241;43m0.3\u001b[39;49m\u001b[43m)\u001b[49m\n",
      "Cell \u001b[0;32mIn[12], line 10\u001b[0m, in \u001b[0;36mget_permutations\u001b[0;34m(l, n)\u001b[0m\n\u001b[1;32m      2\u001b[0m \u001b[38;5;250m\u001b[39m\u001b[38;5;124;03m\"\"\"Calculate all permutations for input list, n items-at-a-time (recursive)\u001b[39;00m\n\u001b[1;32m      3\u001b[0m \u001b[38;5;124;03mInput arguments:\u001b[39;00m\n\u001b[1;32m      4\u001b[0m \u001b[38;5;124;03ml: list of (any object)\u001b[39;00m\n\u001b[1;32m      5\u001b[0m \u001b[38;5;124;03mn: nbr of items-at-a-time\u001b[39;00m\n\u001b[1;32m      6\u001b[0m \u001b[38;5;124;03mreturns list of permutations (list of list of items)\u001b[39;00m\n\u001b[1;32m      7\u001b[0m \u001b[38;5;124;03m\"\"\"\u001b[39;00m\n\u001b[1;32m      9\u001b[0m \u001b[38;5;28;01massert\u001b[39;00m \u001b[38;5;28mlen\u001b[39m(l) \u001b[38;5;241m>\u001b[39m \u001b[38;5;241m0\u001b[39m,\u001b[38;5;124m\"\u001b[39m\u001b[38;5;124mget_permutations: list l must not be empty \u001b[39m\u001b[38;5;124m\"\u001b[39m\n\u001b[0;32m---> 10\u001b[0m \u001b[38;5;28;01massert\u001b[39;00m \u001b[38;5;28misinstance\u001b[39m(n,\u001b[38;5;28mint\u001b[39m) \u001b[38;5;129;01mand\u001b[39;00m n \u001b[38;5;241m>\u001b[39m \u001b[38;5;241m0\u001b[39m, \u001b[38;5;124m\"\u001b[39m\u001b[38;5;124mget_permutations: n must be positive integer\u001b[39m\u001b[38;5;124m\"\u001b[39m\n\u001b[1;32m     11\u001b[0m \u001b[38;5;66;03m#if n == len(l):  # return list containing l as the only item        \u001b[39;00m\n\u001b[1;32m     12\u001b[0m \u001b[38;5;66;03m#    permutation_list = [l]\u001b[39;00m\n\u001b[1;32m     13\u001b[0m \u001b[38;5;66;03m#    # print(\"get_permutations: n==1en(l), list=\", l, \" permutation_list=\", permutation_list)\u001b[39;00m\n\u001b[1;32m     14\u001b[0m \u001b[38;5;66;03m#elif n == 1:\u001b[39;00m\n\u001b[1;32m     15\u001b[0m \u001b[38;5;28;01mif\u001b[39;00m n \u001b[38;5;241m==\u001b[39m \u001b[38;5;241m1\u001b[39m:\n",
      "\u001b[0;31mAssertionError\u001b[0m: get_permutations: n must be positive integer"
     ]
    }
   ],
   "source": [
    "# Test error handling\n",
    "xlist = ['a', 'b', 'c', 'd', 'e']\n",
    "permutation_list = get_permutations(xlist, 0.3)"
   ]
  },
  {
   "cell_type": "code",
   "execution_count": null,
   "metadata": {},
   "outputs": [],
   "source": []
  }
 ],
 "metadata": {
  "colab": {
   "provenance": []
  },
  "kernelspec": {
   "display_name": "Python 3 (ipykernel)",
   "language": "python",
   "name": "python3"
  },
  "language_info": {
   "codemirror_mode": {
    "name": "ipython",
    "version": 3
   },
   "file_extension": ".py",
   "mimetype": "text/x-python",
   "name": "python",
   "nbconvert_exporter": "python",
   "pygments_lexer": "ipython3",
   "version": "3.10.6"
  }
 },
 "nbformat": 4,
 "nbformat_minor": 1
}
